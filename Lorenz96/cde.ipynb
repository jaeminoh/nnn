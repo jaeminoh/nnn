{
 "cells": [
  {
   "cell_type": "code",
   "execution_count": 1,
   "metadata": {},
   "outputs": [],
   "source": [
    "from cde import NeuralCDE\n",
    "import jax.random as jr\n",
    "import numpy as np\n",
    "import diffrax\n",
    "import equinox as eqx\n",
    "import optax\n",
    "import jax"
   ]
  },
  {
   "cell_type": "code",
   "execution_count": 10,
   "metadata": {},
   "outputs": [],
   "source": [
    "cde = NeuralCDE(128, 128, 128, 2, key=jr.key(4321))\n",
    "d = np.load(\"data/Tsit.npz\")\n",
    "ts = d[\"tt\"][:100]\n",
    "us = d[\"sol\"][:100]\n",
    "coeffs = diffrax.backward_hermite_coefficients(ts, us)\n",
    "\n",
    "@eqx.filter_jit\n",
    "def compute_loss(net: NeuralCDE):\n",
    "    out = net(us[0], ts, coeffs, unroll_out=True)\n",
    "    return ((out - us)**2).mean()\n",
    "\n",
    "grad_loss = eqx.filter_value_and_grad(compute_loss)\n",
    "opt = optax.lion(1e-4)\n",
    "opt_state = opt.init(eqx.filter(cde, eqx.is_inexact_array))\n",
    "\n",
    "@eqx.filter_jit\n",
    "def make_step(net, opt_state):\n",
    "    loss, grads = grad_loss(net)\n",
    "    updates, opt_state = opt.update(grads, opt_state, net)\n",
    "    net = eqx.apply_updates(net, updates)\n",
    "    return loss, net, opt_state"
   ]
  },
  {
   "cell_type": "code",
   "execution_count": 11,
   "metadata": {},
   "outputs": [
    {
     "data": {
      "text/plain": [
       "(Array(11.502912, dtype=float32),\n",
       " NeuralCDE(\n",
       "   func=Func(\n",
       "     mlp=MLP(\n",
       "       layers=(\n",
       "         Linear(\n",
       "           weight=f32[128,128],\n",
       "           bias=f32[128],\n",
       "           in_features=128,\n",
       "           out_features=128,\n",
       "           use_bias=True\n",
       "         ),\n",
       "         Linear(\n",
       "           weight=f32[128,128],\n",
       "           bias=f32[128],\n",
       "           in_features=128,\n",
       "           out_features=128,\n",
       "           use_bias=True\n",
       "         ),\n",
       "         Linear(\n",
       "           weight=f32[16384,128],\n",
       "           bias=f32[16384],\n",
       "           in_features=128,\n",
       "           out_features=16384,\n",
       "           use_bias=True\n",
       "         )\n",
       "       ),\n",
       "       activation=<wrapped function softplus>,\n",
       "       final_activation=<wrapped function tanh>,\n",
       "       use_bias=True,\n",
       "       use_final_bias=True,\n",
       "       in_size=128,\n",
       "       out_size=16384,\n",
       "       width_size=128,\n",
       "       depth=2\n",
       "     ),\n",
       "     data_size=128,\n",
       "     hidden_size=128\n",
       "   )\n",
       " ),\n",
       " (ScaleByLionState(count=Array(1, dtype=int32), mu=NeuralCDE(\n",
       "    func=Func(\n",
       "      mlp=MLP(\n",
       "        layers=(\n",
       "          Linear(\n",
       "            weight=f32[128,128],\n",
       "            bias=f32[128],\n",
       "            in_features=128,\n",
       "            out_features=128,\n",
       "            use_bias=True\n",
       "          ),\n",
       "          Linear(\n",
       "            weight=f32[128,128],\n",
       "            bias=f32[128],\n",
       "            in_features=128,\n",
       "            out_features=128,\n",
       "            use_bias=True\n",
       "          ),\n",
       "          Linear(\n",
       "            weight=f32[16384,128],\n",
       "            bias=f32[16384],\n",
       "            in_features=128,\n",
       "            out_features=16384,\n",
       "            use_bias=True\n",
       "          )\n",
       "        ),\n",
       "        activation=None,\n",
       "        final_activation=None,\n",
       "        use_bias=True,\n",
       "        use_final_bias=True,\n",
       "        in_size=128,\n",
       "        out_size=16384,\n",
       "        width_size=128,\n",
       "        depth=2\n",
       "      ),\n",
       "      data_size=None,\n",
       "      hidden_size=None\n",
       "    )\n",
       "  )),\n",
       "  EmptyState(),\n",
       "  EmptyState()))"
      ]
     },
     "execution_count": 11,
     "metadata": {},
     "output_type": "execute_result"
    }
   ],
   "source": [
    "make_step(cde, opt_state)"
   ]
  },
  {
   "cell_type": "code",
   "execution_count": null,
   "metadata": {},
   "outputs": [],
   "source": []
  }
 ],
 "metadata": {
  "kernelspec": {
   "display_name": "sciml",
   "language": "python",
   "name": "python3"
  },
  "language_info": {
   "codemirror_mode": {
    "name": "ipython",
    "version": 3
   },
   "file_extension": ".py",
   "mimetype": "text/x-python",
   "name": "python",
   "nbconvert_exporter": "python",
   "pygments_lexer": "ipython3",
   "version": "3.12.3"
  }
 },
 "nbformat": 4,
 "nbformat_minor": 2
}
